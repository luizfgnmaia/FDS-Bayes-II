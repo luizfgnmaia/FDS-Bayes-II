{
 "cells": [
  {
   "cell_type": "markdown",
   "metadata": {
    "colab_type": "text",
    "id": "ayCmALYDkjyW"
   },
   "source": [
    "## **Bayesian Bandits**\n",
    "\n",
    "N slot machines, each with its own unknown probability\n",
    "distribution for rewards. Exploration-exploitation tradeoff."
   ]
  },
  {
   "cell_type": "markdown",
   "metadata": {
    "colab_type": "text",
    "id": "DT-r4A7ylBF2"
   },
   "source": [
    "Let's model each machine as a Bernoulli random variable, each with its own probability of success:"
   ]
  },
  {
   "cell_type": "code",
   "execution_count": null,
   "metadata": {
    "colab": {},
    "colab_type": "code",
    "id": "XuT97l_mmbO8"
   },
   "outputs": [],
   "source": [
    "import numpy as np"
   ]
  },
  {
   "cell_type": "code",
   "execution_count": null,
   "metadata": {
    "colab": {},
    "colab_type": "code",
    "id": "woCj1fhTi68W"
   },
   "outputs": [],
   "source": [
    "class machine:\n",
    "  win, loss, srate = 0,0,0\n",
    "  def __init__(self):\n",
    "    self.srate = np.random.random()*.4+.3\n",
    "  def play(self, times=1):\n",
    "    n = int(times)\n",
    "    for i in range(n):\n",
    "      x = np.random.random()\n",
    "      if x <= self.srate:\n",
    "        self.win+=1\n",
    "        print(\"You win!\")\n",
    "        return 1\n",
    "      else:\n",
    "        self.loss+=1\n",
    "        print(\"You lose...\")\n",
    "        return 0\n",
    "    \n",
    "      \n",
    "  "
   ]
  },
  {
   "cell_type": "code",
   "execution_count": null,
   "metadata": {
    "colab": {},
    "colab_type": "code",
    "id": "g7mT7XfukiwA"
   },
   "outputs": [],
   "source": [
    "m1 = machine()\n",
    "m2 = machine()\n",
    "m3 = machine()\n",
    "m4 = machine()\n",
    "m5 = machine()"
   ]
  },
  {
   "cell_type": "markdown",
   "metadata": {
    "colab_type": "text",
    "id": "q2Ue8kPH4Xdx"
   },
   "source": [
    "Now that we have our 5 machines (m1, m2, m3, m4 and m5), we can play each of them to test our luck.\n",
    "\n"
   ]
  },
  {
   "cell_type": "code",
   "execution_count": null,
   "metadata": {
    "colab": {
     "base_uri": "https://localhost:8080/",
     "height": 51
    },
    "colab_type": "code",
    "executionInfo": {
     "elapsed": 957,
     "status": "ok",
     "timestamp": 1566845409356,
     "user": {
      "displayName": "Flavio Fontanella",
      "photoUrl": "",
      "userId": "05594689435255108800"
     },
     "user_tz": 180
    },
    "id": "I5p5JxxN9iw7",
    "outputId": "55d66b27-14b1-467a-c3f3-8545a650e604"
   },
   "outputs": [],
   "source": [
    "m1.play()"
   ]
  },
  {
   "cell_type": "code",
   "execution_count": null,
   "metadata": {
    "colab": {
     "base_uri": "https://localhost:8080/",
     "height": 51
    },
    "colab_type": "code",
    "executionInfo": {
     "elapsed": 949,
     "status": "ok",
     "timestamp": 1566845409357,
     "user": {
      "displayName": "Flavio Fontanella",
      "photoUrl": "",
      "userId": "05594689435255108800"
     },
     "user_tz": 180
    },
    "id": "j4GAwykb9nDH",
    "outputId": "031c2543-13d7-41c4-d0ff-657a99081b92"
   },
   "outputs": [],
   "source": [
    "m2.play()"
   ]
  },
  {
   "cell_type": "code",
   "execution_count": null,
   "metadata": {
    "colab": {
     "base_uri": "https://localhost:8080/",
     "height": 51
    },
    "colab_type": "code",
    "executionInfo": {
     "elapsed": 939,
     "status": "ok",
     "timestamp": 1566845409358,
     "user": {
      "displayName": "Flavio Fontanella",
      "photoUrl": "",
      "userId": "05594689435255108800"
     },
     "user_tz": 180
    },
    "id": "kHKFGa0l9qtZ",
    "outputId": "2efebe06-c450-4fbc-95b3-ff6125c51145"
   },
   "outputs": [],
   "source": [
    "m3.play(10)"
   ]
  },
  {
   "cell_type": "markdown",
   "metadata": {
    "colab_type": "text",
    "id": "vWLIwjVD9aXs"
   },
   "source": [
    "No, not really! That's not the point!\n",
    "\n",
    "We wish, in fact, to test for the parameters m1.srate, ..., m5.srate."
   ]
  },
  {
   "cell_type": "markdown",
   "metadata": {
    "colab_type": "text",
    "id": "oLbG3qtA5l4N"
   },
   "source": [
    "To do so, we need to establish prior distributions that match our belief on those parameters.\n",
    "\n",
    "As we have no clue whether m1.srate < m2.srate or m3.srate > m4.srate and so on, we should use a unique prior for all the machines.\n",
    "\n",
    "First, let's observe that playing each machine is like a Bernoulli trial with probability m.srate of success. \n",
    "\n",
    "Therefore, as each try should be independent from the others, the total number of successes in N tries should follow a Binomial distribution with parameters N and m.srate.\n",
    "\n",
    "Well, if we are to estimate a binomial distribution, we'd better use a conjugate prior to make things fancier. The Beta distribution will do the trick."
   ]
  },
  {
   "cell_type": "markdown",
   "metadata": {
    "colab_type": "text",
    "id": "7Fk6vPbr61BM"
   },
   "source": [
    "Once again, we can assume we have no clue on the possible values of m.srate. They may be anything between 0 and 1. (In fact, if we peep into the machine code we'll see its restricted to the 0.3-0.7 interval.)\n",
    "\n",
    "So, we may start with a Beta (2,2) as our prior, which is symetrical around the median 0.5 and somewhat concentrates our initial guess near it.\n",
    "\n",
    "Let's plot it so we can see what's about:"
   ]
  },
  {
   "cell_type": "code",
   "execution_count": null,
   "metadata": {
    "colab": {},
    "colab_type": "code",
    "id": "_y43_mA1_B7K"
   },
   "outputs": [],
   "source": [
    ">>> from scipy.stats import beta\n",
    ">>> import matplotlib.pyplot as plt"
   ]
  },
  {
   "cell_type": "code",
   "execution_count": null,
   "metadata": {
    "colab": {
     "base_uri": "https://localhost:8080/",
     "height": 269
    },
    "colab_type": "code",
    "executionInfo": {
     "elapsed": 1434,
     "status": "ok",
     "timestamp": 1566845409868,
     "user": {
      "displayName": "Flavio Fontanella",
      "photoUrl": "",
      "userId": "05594689435255108800"
     },
     "user_tz": 180
    },
    "id": "jKiURnOp_icz",
    "outputId": "4b7d8536-3b61-415e-a1b6-3c7492a2737c"
   },
   "outputs": [],
   "source": [
    "fig, ax = plt.subplots(1, 1)\n",
    "x = np.linspace(beta.ppf(0.01, 2, 2),beta.ppf(0.99, 2, 2), 100)\n",
    "rv = beta(2, 2)\n",
    "ax.plot(x, rv.pdf(x), 'k-', lw=2, label='frozen pdf')\n",
    "plt.show()"
   ]
  },
  {
   "cell_type": "markdown",
   "metadata": {
    "colab_type": "text",
    "id": "LFoknouZAqre"
   },
   "source": [
    "Now that we have our prior distribution, we can test the machines and update each distribution based on the outcomes they present to us.\n",
    "\n",
    "First, let's restart the machines, so that our previous tries doesn't count."
   ]
  },
  {
   "cell_type": "code",
   "execution_count": null,
   "metadata": {
    "colab": {},
    "colab_type": "code",
    "id": "wx7un1UjBnt-"
   },
   "outputs": [],
   "source": [
    "m1 = machine()\n",
    "m2 = machine()\n",
    "m3 = machine()\n",
    "m4 = machine()\n",
    "m5 = machine()"
   ]
  },
  {
   "cell_type": "markdown",
   "metadata": {
    "colab_type": "text",
    "id": "ubFFwmTlBqJW"
   },
   "source": [
    "Now, let's set the policy we'll follow in order to achieve our goal.\n",
    "\n",
    "What do we understand for 'Exploration-exploitation tradeoff'?\n",
    "\n",
    "Mainly, we have to balance our need to test and get data from each machine with our goal to win as much as possible.\n",
    "\n",
    "So, what's the strategy?\n",
    "\n",
    "Well...we may start with any of them, as they all have the same prior. As we test them, we'll get more information and update our priors into posteriors, which, in turn, will lead us to better guesses on which machine to choose next.\n",
    "\n",
    "The algorithms will go like this:\n",
    "\n",
    "//start turn\n",
    "1. sample from all srate distributions\n",
    "2. choose the machine corresponding to the highest sample\n",
    "3. play that machine once\n",
    "4. get the result (success or failure) and update that machine srate distribution\n",
    "\n",
    "//end turn\n",
    "\n",
    "The number of turns will be the total tries we'll wish to play until the end of the day.\n",
    "\n",
    "In each turn, we'll decide which machine to play by chance, based on each machine srate distribution. Then we'll update that machine distribution based on the outcome. This means that each time we get a success, that machine will be more likely to be selected the next time. Conversly, if we get a failure, that machine will become less likely to be selected.\n",
    "\n",
    "As turns go by, the distributions will become more concentrated around the mean rate successes/tries each machine presented thus far. So, the  samples will get less random and the (expected) best machine will be more likely to be chosen.\n",
    "\n",
    "Hopefully, by the end of our playday, we'll have found the best machine and will be playing on it at every turn.  \n",
    "\n",
    "\n"
   ]
  },
  {
   "cell_type": "markdown",
   "metadata": {
    "colab_type": "text",
    "id": "NltNwVrSS947"
   },
   "source": [
    "Before we try to implement the algorithm, let's simulate the first turns to see what happens.\n",
    "\n"
   ]
  },
  {
   "cell_type": "markdown",
   "metadata": {
    "colab_type": "text",
    "id": "igguppDsTU4D"
   },
   "source": [
    "First turn:\n",
    "\n",
    "//start turn\n",
    "\n",
    "1. **sample from all srate distributions**\n",
    "2. choose the machine corresponding to the highest sample\n",
    "3. play that machine once\n",
    "4. get the result (success or failure) and update that machine srate distribution\n",
    "\n",
    "//end turn\n",
    "\n",
    "Those distributions are all the same by now, so we could as well choose any we like.\n",
    "\n",
    "Let's follow the policy anyway.\n"
   ]
  },
  {
   "cell_type": "markdown",
   "metadata": {
    "colab_type": "text",
    "id": "RoBJ2UN0T_io"
   },
   "source": [
    "We will need to create a variable to keep recording the srand distribution of each machine."
   ]
  },
  {
   "cell_type": "code",
   "execution_count": null,
   "metadata": {
    "colab": {},
    "colab_type": "code",
    "id": "YzeEfG3WUoRY"
   },
   "outputs": [],
   "source": [
    "class Beta():\n",
    "  a, b = 0, 0\n",
    "  pdf = beta(a,b).pdf\n",
    "  def __init__(self,a,b):\n",
    "    self.a, self.b = a, b\n",
    "    self.pdf = beta(self.a,self.b).pdf\n",
    "  def sample(self):\n",
    "    return beta.rvs(self.a, self.b)\n",
    "   \n",
    "\n",
    "\n",
    "  "
   ]
  },
  {
   "cell_type": "code",
   "execution_count": null,
   "metadata": {
    "colab": {},
    "colab_type": "code",
    "id": "Pe7KcQKbo5pK"
   },
   "outputs": [],
   "source": [
    "priori = [Beta(2, 2)]*5"
   ]
  },
  {
   "cell_type": "markdown",
   "metadata": {
    "colab_type": "text",
    "id": "yywDel8IV6Ta"
   },
   "source": [
    "Now, we sample from each machine priori to choose which one we will play first."
   ]
  },
  {
   "cell_type": "code",
   "execution_count": null,
   "metadata": {
    "colab": {
     "base_uri": "https://localhost:8080/",
     "height": 102
    },
    "colab_type": "code",
    "executionInfo": {
     "elapsed": 1651,
     "status": "ok",
     "timestamp": 1566845410113,
     "user": {
      "displayName": "Flavio Fontanella",
      "photoUrl": "",
      "userId": "05594689435255108800"
     },
     "user_tz": 180
    },
    "id": "iWAs09jvWC5N",
    "outputId": "adc15f78-9bc9-4cea-cff6-204a835a41b6"
   },
   "outputs": [],
   "source": [
    "sample1 = [0]*5\n",
    "\n",
    "for i in range(5):\n",
    "  sample1[i] = priori[i].sample()\n",
    "  \n",
    "sample1"
   ]
  },
  {
   "cell_type": "markdown",
   "metadata": {
    "colab_type": "text",
    "id": "JmbW4cXCV6Ku"
   },
   "source": [
    "Now we have to find the highest value sampled and pick the machine its sampled from.\n",
    "\n",
    "\n",
    "//start turn\n",
    "\n",
    "1. sample from all srate distributions\n",
    "2. **choose the machine corresponding to the highest sample**\n",
    "3. play that machine once\n",
    "4. get the result (success or failure) and update that machine srate distribution\n",
    "\n",
    "//end turn"
   ]
  },
  {
   "cell_type": "code",
   "execution_count": null,
   "metadata": {
    "colab": {
     "base_uri": "https://localhost:8080/",
     "height": 34
    },
    "colab_type": "code",
    "executionInfo": {
     "elapsed": 1644,
     "status": "ok",
     "timestamp": 1566845410114,
     "user": {
      "displayName": "Flavio Fontanella",
      "photoUrl": "",
      "userId": "05594689435255108800"
     },
     "user_tz": 180
    },
    "id": "4JXNZNqNbtVx",
    "outputId": "77d2a5e5-ff16-4370-b102-fbc6501b5872"
   },
   "outputs": [],
   "source": [
    "print (max(sample1), sample1.index(max(sample1)))"
   ]
  },
  {
   "cell_type": "markdown",
   "metadata": {
    "colab_type": "text",
    "id": "r3i0GWemcvqX"
   },
   "source": [
    "So, we have the max value sampled and the index of the sample in the array.\n",
    "\n",
    "To make things easier, let's also index our machines in an array of machines:"
   ]
  },
  {
   "cell_type": "code",
   "execution_count": null,
   "metadata": {
    "colab": {},
    "colab_type": "code",
    "id": "acWXuMxuddyx"
   },
   "outputs": [],
   "source": [
    "machines = [m1,m2,m3,m4,m5]"
   ]
  },
  {
   "cell_type": "markdown",
   "metadata": {
    "colab_type": "text",
    "id": "wEiY1Fdydk6k"
   },
   "source": [
    "Now, it's time we play the chosen machine and get the outcome:\n",
    "\n",
    "//start turn\n",
    "\n",
    "1. sample from all srate distributions\n",
    "2. choose the machine corresponding to the highest sample\n",
    "3. **play that machine once**\n",
    "4. get the result (success or failure) and update that machine srate distribution\n",
    "\n",
    "//end turn"
   ]
  },
  {
   "cell_type": "code",
   "execution_count": null,
   "metadata": {
    "colab": {
     "base_uri": "https://localhost:8080/",
     "height": 34
    },
    "colab_type": "code",
    "executionInfo": {
     "elapsed": 1630,
     "status": "ok",
     "timestamp": 1566845410115,
     "user": {
      "displayName": "Flavio Fontanella",
      "photoUrl": "",
      "userId": "05594689435255108800"
     },
     "user_tz": 180
    },
    "id": "W7Aq59E_dxvX",
    "outputId": "c577802a-0249-42f4-baf3-e9823b005208"
   },
   "outputs": [],
   "source": [
    "outcome = machines[sample1.index(max(sample1))].play()"
   ]
  },
  {
   "cell_type": "markdown",
   "metadata": {
    "colab_type": "text",
    "id": "YV61MjBieQA3"
   },
   "source": [
    "Got lucky this time?\n",
    "\n",
    "Well, it doesn't matter much, as we have a long playday ahead.\n",
    "\n",
    "We have now to update that machine prior distribution based on the outcome.\n",
    "\n",
    "But....how do we do that?"
   ]
  },
  {
   "cell_type": "markdown",
   "metadata": {
    "colab_type": "text",
    "id": "OUxJSIbYexhV"
   },
   "source": [
    "From Bayes Theorem we have:\n",
    "\n",
    "* P(π|x) ∝ p(x|π) ⋅ p(π)\n",
    "\n",
    "where p(π) is ou prior, P(π|x) is our posterior given the observation and p(x|π) is the likelihood of the observation."
   ]
  },
  {
   "cell_type": "markdown",
   "metadata": {
    "colab_type": "text",
    "id": "q7b7oXLmjZV9"
   },
   "source": [
    "In our case, our prior p(π) is Beta(2,2), while the likelihood p(x|π) follows a Ber(π) distribution. So, we have:\n",
    "\n",
    "P(π|x) ∝  π^x * (1-π)^(1-x) * π^(2-1) * (1-π)^(2-1) = \n",
    "\n",
    "π^(2+x-1) * (1-π)^(2+1-x-1) ∝ Beta(2+x, 2+(1-x))\n",
    "\n",
    "If x=1, i.e., we won, our posterior is now Beta(3,2).\n",
    "\n",
    "If x=0, i.e., we lost, our posterior is now Beta(2,3)."
   ]
  },
  {
   "cell_type": "markdown",
   "metadata": {
    "colab_type": "text",
    "id": "WEXqGnOsnRve"
   },
   "source": [
    "Let's update our prior based on the outcome we had.\n",
    "\n",
    "//start turn\n",
    "\n",
    "1. sample from all srate distributions\n",
    "2. choose the machine corresponding to the highest sample\n",
    "3. play that machine once\n",
    "4. **get the result (success or failure) and update that machine srate distribution**\n",
    "\n",
    "//end turn"
   ]
  },
  {
   "cell_type": "code",
   "execution_count": null,
   "metadata": {
    "colab": {
     "base_uri": "https://localhost:8080/",
     "height": 102
    },
    "colab_type": "code",
    "executionInfo": {
     "elapsed": 1623,
     "status": "ok",
     "timestamp": 1566845410116,
     "user": {
      "displayName": "Flavio Fontanella",
      "photoUrl": "",
      "userId": "05594689435255108800"
     },
     "user_tz": 180
    },
    "id": "VYma0lFUnYRq",
    "outputId": "0f50d00e-e58b-4300-9732-30008599ddcc"
   },
   "outputs": [],
   "source": [
    "priori[sample1.index(max(sample1))]=Beta(2+outcome,2+1-outcome)\n",
    "\n",
    "for prior in priori:\n",
    "  print('Beta(',prior.a,',',prior.b,')')"
   ]
  },
  {
   "cell_type": "markdown",
   "metadata": {
    "colab_type": "text",
    "id": "rPo1VVhBxQFl"
   },
   "source": [
    "We've finally finished the very first turn!\n",
    "\n",
    "Now we have updated one of the priors, the one from the machine we played on. But we still have a Beta (2,2) for each of the other machines.\n",
    "\n",
    "So, let's go for the second turn. Only, this time, we'll do all the steps at once. "
   ]
  },
  {
   "cell_type": "code",
   "execution_count": null,
   "metadata": {
    "colab": {
     "base_uri": "https://localhost:8080/",
     "height": 102
    },
    "colab_type": "code",
    "executionInfo": {
     "elapsed": 1616,
     "status": "ok",
     "timestamp": 1566845410117,
     "user": {
      "displayName": "Flavio Fontanella",
      "photoUrl": "",
      "userId": "05594689435255108800"
     },
     "user_tz": 180
    },
    "id": "EeaNv1wXyHPj",
    "outputId": "da6a24b6-649b-4584-bf80-e5bb5678e17a"
   },
   "outputs": [],
   "source": [
    "sample2 = [0]*5\n",
    "\n",
    "for i in range(5):\n",
    "  sample2[i] = priori[i].sample()\n",
    "  \n",
    "sample2"
   ]
  },
  {
   "cell_type": "code",
   "execution_count": null,
   "metadata": {
    "colab": {
     "base_uri": "https://localhost:8080/",
     "height": 34
    },
    "colab_type": "code",
    "executionInfo": {
     "elapsed": 1607,
     "status": "ok",
     "timestamp": 1566845410117,
     "user": {
      "displayName": "Flavio Fontanella",
      "photoUrl": "",
      "userId": "05594689435255108800"
     },
     "user_tz": 180
    },
    "id": "svgl77klypw7",
    "outputId": "42d4ded7-60b1-4abe-a693-f5a80f168a99"
   },
   "outputs": [],
   "source": [
    "outcome = machines[sample2.index(max(sample2))].play()"
   ]
  },
  {
   "cell_type": "code",
   "execution_count": null,
   "metadata": {
    "colab": {
     "base_uri": "https://localhost:8080/",
     "height": 102
    },
    "colab_type": "code",
    "executionInfo": {
     "elapsed": 1600,
     "status": "ok",
     "timestamp": 1566845410118,
     "user": {
      "displayName": "Flavio Fontanella",
      "photoUrl": "",
      "userId": "05594689435255108800"
     },
     "user_tz": 180
    },
    "id": "8-fs1jbSyzoK",
    "outputId": "b7699bec-d054-449e-df44-3e5723c0b7e3"
   },
   "outputs": [],
   "source": [
    "a = priori[sample2.index(max(sample2))].a\n",
    "b = priori[sample2.index(max(sample2))].b\n",
    "priori[sample2.index(max(sample2))]=Beta(a+outcome,b+1-outcome)\n",
    "\n",
    "for prior in priori:\n",
    "  print('Beta(',prior.a,',',prior.b,')')"
   ]
  },
  {
   "cell_type": "markdown",
   "metadata": {
    "colab_type": "text",
    "id": "Mv7HkwUU1XQP"
   },
   "source": [
    "We are doing great!\n",
    "\n",
    "One more turn:"
   ]
  },
  {
   "cell_type": "code",
   "execution_count": null,
   "metadata": {
    "colab": {
     "base_uri": "https://localhost:8080/",
     "height": 102
    },
    "colab_type": "code",
    "executionInfo": {
     "elapsed": 1592,
     "status": "ok",
     "timestamp": 1566845410119,
     "user": {
      "displayName": "Flavio Fontanella",
      "photoUrl": "",
      "userId": "05594689435255108800"
     },
     "user_tz": 180
    },
    "id": "InVGYC551cFf",
    "outputId": "f05d6638-0b06-4c3b-d0e9-fecf7acc39d0"
   },
   "outputs": [],
   "source": [
    "sample = [0]*5\n",
    "\n",
    "for i in range(5):\n",
    "  sample[i] = priori[i].sample()\n",
    "  \n",
    "sample"
   ]
  },
  {
   "cell_type": "code",
   "execution_count": null,
   "metadata": {
    "colab": {
     "base_uri": "https://localhost:8080/",
     "height": 34
    },
    "colab_type": "code",
    "executionInfo": {
     "elapsed": 1583,
     "status": "ok",
     "timestamp": 1566845410119,
     "user": {
      "displayName": "Flavio Fontanella",
      "photoUrl": "",
      "userId": "05594689435255108800"
     },
     "user_tz": 180
    },
    "id": "ZqcXQ2YY1rLn",
    "outputId": "fad2d046-10bc-453c-99c8-cf0ec8169faf"
   },
   "outputs": [],
   "source": [
    "outcome = machines[sample.index(max(sample))].play()"
   ]
  },
  {
   "cell_type": "code",
   "execution_count": null,
   "metadata": {
    "colab": {
     "base_uri": "https://localhost:8080/",
     "height": 102
    },
    "colab_type": "code",
    "executionInfo": {
     "elapsed": 1576,
     "status": "ok",
     "timestamp": 1566845410120,
     "user": {
      "displayName": "Flavio Fontanella",
      "photoUrl": "",
      "userId": "05594689435255108800"
     },
     "user_tz": 180
    },
    "id": "vF5Ttfhw1saj",
    "outputId": "5b6efbcf-24c9-4646-c277-4302c257023d"
   },
   "outputs": [],
   "source": [
    "a = priori[sample.index(max(sample))].a\n",
    "b = priori[sample.index(max(sample))].b\n",
    "priori[sample.index(max(sample))]=Beta(a+outcome,b+1-outcome)\n",
    "\n",
    "for prior in priori:\n",
    "  print('Beta(',prior.a,',',prior.b,')')"
   ]
  },
  {
   "cell_type": "markdown",
   "metadata": {
    "colab_type": "text",
    "id": "hHZZGtxt2B9T"
   },
   "source": [
    "Three done! Good!\n",
    "\n",
    "Well...I think it's time to make things faster.\n",
    "\n",
    "How about inserting a code to automate it and then simulate the proccess for, say, 1000 times?\n",
    "\n",
    "Go for it!"
   ]
  },
  {
   "cell_type": "code",
   "execution_count": null,
   "metadata": {
    "colab": {},
    "colab_type": "code",
    "id": "i5bUdTOL2ea2"
   },
   "outputs": [],
   "source": [
    "#def play_machines(n):\n",
    "  #your code here\n",
    "  "
   ]
  },
  {
   "cell_type": "code",
   "execution_count": null,
   "metadata": {
    "colab": {},
    "colab_type": "code",
    "id": "fgzPKI45Fp71"
   },
   "outputs": [],
   "source": [
    "play_machines(997)"
   ]
  },
  {
   "cell_type": "markdown",
   "metadata": {
    "colab_type": "text",
    "id": "Mb1w-Cih5qX6"
   },
   "source": [
    "Got it?\n",
    "\n",
    "Now...how do we measure how good is our strategy?\n",
    "\n",
    "Well, our goal is to maximize the winnings, so, maybe, we should compare our outcome with the 'playing the best machine' strategy?\n",
    "\n",
    "If we sum the total wins we achieved and match it with the expected total wins by playing the best machine the same amount of tries, that would be a good measure.\n",
    "\n",
    "But, we haven't summed it up, have we?\n",
    "\n",
    "Fortunately, we can access the winnings on each machine, as they keep that number as an attribute.\n",
    "\n",
    "Let's do it!"
   ]
  },
  {
   "cell_type": "code",
   "execution_count": null,
   "metadata": {
    "colab": {
     "base_uri": "https://localhost:8080/",
     "height": 34
    },
    "colab_type": "code",
    "executionInfo": {
     "elapsed": 3201,
     "status": "ok",
     "timestamp": 1566845411779,
     "user": {
      "displayName": "Flavio Fontanella",
      "photoUrl": "",
      "userId": "05594689435255108800"
     },
     "user_tz": 180
    },
    "id": "osUG-Sam8CEb",
    "outputId": "8d788630-e762-4f08-995b-adb67e42e526"
   },
   "outputs": [],
   "source": [
    "total_wins = 0\n",
    "\n",
    "for machine in machines:\n",
    "  total_wins += machine.win\n",
    "  \n",
    "total_wins"
   ]
  },
  {
   "cell_type": "markdown",
   "metadata": {
    "colab_type": "text",
    "id": "u18FInUi8ghH"
   },
   "source": [
    "Now, let's check the expected wins for the best machine."
   ]
  },
  {
   "cell_type": "code",
   "execution_count": null,
   "metadata": {
    "colab": {
     "base_uri": "https://localhost:8080/",
     "height": 34
    },
    "colab_type": "code",
    "executionInfo": {
     "elapsed": 3191,
     "status": "ok",
     "timestamp": 1566845411779,
     "user": {
      "displayName": "Flavio Fontanella",
      "photoUrl": "",
      "userId": "05594689435255108800"
     },
     "user_tz": 180
    },
    "id": "1hHOlyH_80fh",
    "outputId": "54cdb840-2a94-4ee1-e5ad-42ceb26d6c5e"
   },
   "outputs": [],
   "source": [
    "total_tries = 0\n",
    "best_rate = 0\n",
    "\n",
    "for machine in machines:\n",
    "  total_tries += (machine.win+machine.loss)\n",
    "  if best_rate < machine.srate:\n",
    "    best_rate = machine.srate\n",
    "  \n",
    "expect_wins = total_tries * best_rate\n",
    "print (total_tries, best_rate, expect_wins)"
   ]
  },
  {
   "cell_type": "markdown",
   "metadata": {
    "colab_type": "text",
    "id": "FE0_-p2n9wSy"
   },
   "source": [
    "So, now, what could be our metric?\n",
    "\n",
    "How about the ratio \"our wins / best machine wins\"?\n",
    "\n",
    "Sounds good to me."
   ]
  },
  {
   "cell_type": "code",
   "execution_count": null,
   "metadata": {
    "colab": {
     "base_uri": "https://localhost:8080/",
     "height": 34
    },
    "colab_type": "code",
    "executionInfo": {
     "elapsed": 3184,
     "status": "ok",
     "timestamp": 1566845411780,
     "user": {
      "displayName": "Flavio Fontanella",
      "photoUrl": "",
      "userId": "05594689435255108800"
     },
     "user_tz": 180
    },
    "id": "mVkOLXMD-b_1",
    "outputId": "5cc6bd4c-5051-49c1-a8ec-4181dbe9eb5d"
   },
   "outputs": [],
   "source": [
    "strategy_rate = total_wins / expect_wins\n",
    "\n",
    "print (\"O desempenho relativo da nossa estratégia foi de \", round(strategy_rate*100,2),\"%.\")"
   ]
  },
  {
   "cell_type": "markdown",
   "metadata": {
    "colab_type": "text",
    "id": "-pV4LccL_Rgy"
   },
   "source": [
    "Good enough for you?\n",
    "\n",
    "Not sure we could have done better not knowing which machine was the best one.\n",
    "\n",
    "Anyway, the longer the playday, the closer to the best strategy our strategy should work.\n",
    "\n",
    "Why don't we try to play the machines until we reach 10000 times?"
   ]
  },
  {
   "cell_type": "code",
   "execution_count": null,
   "metadata": {
    "colab": {},
    "colab_type": "code",
    "id": "BIsZ8kTrAlaO"
   },
   "outputs": [],
   "source": [
    "#play_machines(9000):\n",
    "  "
   ]
  },
  {
   "cell_type": "code",
   "execution_count": null,
   "metadata": {
    "colab": {
     "base_uri": "https://localhost:8080/",
     "height": 51
    },
    "colab_type": "code",
    "executionInfo": {
     "elapsed": 16503,
     "status": "ok",
     "timestamp": 1566845425124,
     "user": {
      "displayName": "Flavio Fontanella",
      "photoUrl": "",
      "userId": "05594689435255108800"
     },
     "user_tz": 180
    },
    "id": "UWZ98s0YAvQP",
    "outputId": "a85fc25f-e7d5-4d2d-896f-3e6e3d81ebb0"
   },
   "outputs": [],
   "source": [
    "total_wins = 0\n",
    "total_tries = 0\n",
    "best_rate = 0\n",
    "\n",
    "for machine in machines:\n",
    "  total_wins += machine.win\n",
    "  total_tries += (machine.win+machine.loss)\n",
    "  if best_rate < machine.srate:\n",
    "    best_rate = machine.srate  \n",
    "  \n",
    "expect_wins = total_tries * best_rate\n",
    "strategy_rate = total_wins / expect_wins\n",
    "\n",
    "print (total_wins, total_tries, best_rate, expect_wins)\n",
    "print (\"O desempenho relativo da nossa estratégia foi de \", round(strategy_rate*100,2),\"%.\")"
   ]
  },
  {
   "cell_type": "markdown",
   "metadata": {
    "colab_type": "text",
    "id": "-3Nqu9wEXk3U"
   },
   "source": [
    "Is it closer to 100%?"
   ]
  },
  {
   "cell_type": "markdown",
   "metadata": {
    "colab_type": "text",
    "id": "Jq2KKGDSHDe2"
   },
   "source": [
    "Finally, let's insert a function to plot our distributions and see how they evolve throghout the process. "
   ]
  },
  {
   "cell_type": "code",
   "execution_count": null,
   "metadata": {
    "colab": {
     "base_uri": "https://localhost:8080/",
     "height": 269
    },
    "colab_type": "code",
    "executionInfo": {
     "elapsed": 16884,
     "status": "ok",
     "timestamp": 1566845425513,
     "user": {
      "displayName": "Flavio Fontanella",
      "photoUrl": "",
      "userId": "05594689435255108800"
     },
     "user_tz": 180
    },
    "id": "-3Km5J9RHrg0",
    "outputId": "7b024c69-c2ef-4dc9-a633-2204e0ebea8a"
   },
   "outputs": [],
   "source": [
    "def plot_betas(priori):\n",
    "  fig, ax = plt.subplots(1, 1)\n",
    "  x = np.linspace(beta.ppf(0.01, 2, 2),beta.ppf(0.99, 2, 2), 100)\n",
    "  colors = ['blue','red','green','yellow','black']\n",
    "  i=0\n",
    "  legend =[]\n",
    "  for prior in priori:  \n",
    "    ax.plot(x, prior.pdf(x), 'k-', lw=2, label='frozen pdf', color = colors[i])\n",
    "    legend.append((prior.a,prior.b))\n",
    "    i+=1\n",
    "  ax.legend(legend)\n",
    "  plt.show()\n",
    "  \n",
    "plot_betas(priori)"
   ]
  },
  {
   "cell_type": "markdown",
   "metadata": {
    "colab_type": "text",
    "id": "qhLz5FTbLhM-"
   },
   "source": [
    "Now, modify your \"play_machines\" function, so that it calls the \"plot_betas\" function on some iterations.\n",
    "\n",
    "You may choose that iterations by setting a \"plots\" array with the numbers 1, 5, 20, 50, 100, 250, 500, 1000. Then, the \"plot_betas\" function shall be called whenever an iteration is in the array plots.\n",
    "\n",
    "Also, comment the 'print' command lines in the Machine class, so that the plots won't get lost among all the prints."
   ]
  },
  {
   "cell_type": "markdown",
   "metadata": {
    "colab_type": "text",
    "id": "IUw2DiHINk3t"
   },
   "source": [
    "Let's restart all the machines and run the playday one last time."
   ]
  },
  {
   "cell_type": "code",
   "execution_count": null,
   "metadata": {
    "colab": {},
    "colab_type": "code",
    "id": "WOu4vBUASm1l"
   },
   "outputs": [],
   "source": [
    "class machine:\n",
    "  win, loss, srate = 0,0,0\n",
    "  def __init__(self):\n",
    "    self.srate = np.random.random()*.4+.3\n",
    "  def play(self, times=1):\n",
    "    n = int(times)\n",
    "    for i in range(n):\n",
    "      x = np.random.random()\n",
    "      if x <= self.srate:\n",
    "        self.win+=1\n",
    "        #print(\"You win!\")\n",
    "        return 1\n",
    "      else:\n",
    "        self.loss+=1\n",
    "        #print(\"You lose...\")\n",
    "        return 0"
   ]
  },
  {
   "cell_type": "code",
   "execution_count": null,
   "metadata": {
    "colab": {},
    "colab_type": "code",
    "id": "shBewNCmQ-si"
   },
   "outputs": [],
   "source": [
    "m1 = machine()\n",
    "m2 = machine()\n",
    "m3 = machine()\n",
    "m4 = machine()\n",
    "m5 = machine()\n",
    "\n",
    "machines = [m1,m2,m3,m4,m5]\n",
    "priori = [Beta(2,2)]*5\n",
    "\n",
    "play_machines(1000)"
   ]
  }
 ],
 "metadata": {
  "colab": {
   "collapsed_sections": [],
   "name": "BayesianBandits.ipynb",
   "provenance": [],
   "version": "0.3.2"
  },
  "kernelspec": {
   "display_name": "Python 3",
   "language": "python",
   "name": "python3"
  },
  "language_info": {
   "codemirror_mode": {
    "name": "ipython",
    "version": 3
   },
   "file_extension": ".py",
   "mimetype": "text/x-python",
   "name": "python",
   "nbconvert_exporter": "python",
   "pygments_lexer": "ipython3",
   "version": "3.7.3"
  }
 },
 "nbformat": 4,
 "nbformat_minor": 1
}
